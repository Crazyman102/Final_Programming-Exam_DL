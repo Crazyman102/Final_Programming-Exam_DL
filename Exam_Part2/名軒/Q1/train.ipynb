{
 "cells": [
  {
   "cell_type": "code",
   "execution_count": 1,
   "metadata": {},
   "outputs": [],
   "source": [
    "# import package\n",
    "import numpy as np\n",
    "import pandas as pd\n",
    "import os\n",
    "import matplotlib.pyplot as plt\n",
    "%matplotlib inline\n",
    "os.environ[\"CUDA_VISIBLE_DEVICES\"] = \"0\"\n",
    "\n",
    "from tensorflow import keras\n",
    "from tensorflow.keras.preprocessing.image import ImageDataGenerator\n",
    "from tensorflow.keras.models import Model\n",
    "from tensorflow.keras.layers import (Dense, Dropout, Activation,\n",
    "                                     Flatten)\n",
    "import tensorflow as tf"
   ]
  },
  {
   "cell_type": "code",
   "execution_count": 6,
   "metadata": {},
   "outputs": [],
   "source": [
    "data_path = \"train/\"\n",
    "\n",
    "x_data_list = []\n",
    "y_data_list = []\n",
    "for roots, dirs, files in os.walk(data_path):\n",
    "    for each in files:\n",
    "        if each.find('checkpoint') == -1:\n",
    "            x_data_list.append(os.path.join(roots.split(\"/\")[-1], each))\n",
    "            y_data_list.append(roots.split(\"/\")[-1])"
   ]
  },
  {
   "cell_type": "code",
   "execution_count": 7,
   "metadata": {},
   "outputs": [],
   "source": [
    "data_list = pd.DataFrame({})\n",
    "data_list['img_path'] = x_data_list\n",
    "data_list['label'] = y_data_list"
   ]
  },
  {
   "cell_type": "code",
   "execution_count": 8,
   "metadata": {},
   "outputs": [
    {
     "data": {
      "text/html": [
       "<div>\n",
       "<style scoped>\n",
       "    .dataframe tbody tr th:only-of-type {\n",
       "        vertical-align: middle;\n",
       "    }\n",
       "\n",
       "    .dataframe tbody tr th {\n",
       "        vertical-align: top;\n",
       "    }\n",
       "\n",
       "    .dataframe thead th {\n",
       "        text-align: right;\n",
       "    }\n",
       "</style>\n",
       "<table border=\"1\" class=\"dataframe\">\n",
       "  <thead>\n",
       "    <tr style=\"text-align: right;\">\n",
       "      <th></th>\n",
       "      <th>img_path</th>\n",
       "      <th>label</th>\n",
       "    </tr>\n",
       "  </thead>\n",
       "  <tbody>\n",
       "    <tr>\n",
       "      <th>0</th>\n",
       "      <td>buffalo\\001.jpg</td>\n",
       "      <td>buffalo</td>\n",
       "    </tr>\n",
       "    <tr>\n",
       "      <th>1</th>\n",
       "      <td>buffalo\\002.jpg</td>\n",
       "      <td>buffalo</td>\n",
       "    </tr>\n",
       "    <tr>\n",
       "      <th>2</th>\n",
       "      <td>buffalo\\003.jpg</td>\n",
       "      <td>buffalo</td>\n",
       "    </tr>\n",
       "  </tbody>\n",
       "</table>\n",
       "</div>"
      ],
      "text/plain": [
       "          img_path    label\n",
       "0  buffalo\\001.jpg  buffalo\n",
       "1  buffalo\\002.jpg  buffalo\n",
       "2  buffalo\\003.jpg  buffalo"
      ]
     },
     "execution_count": 8,
     "metadata": {},
     "output_type": "execute_result"
    }
   ],
   "source": [
    "data_list.head(3)"
   ]
  },
  {
   "cell_type": "code",
   "execution_count": 9,
   "metadata": {},
   "outputs": [],
   "source": [
    "from sklearn.model_selection import train_test_split\n",
    "\n",
    "train_list, test_list = train_test_split(data_list,\n",
    "                                         test_size=0.2,\n",
    "                                         random_state=42,\n",
    "                                         stratify=data_list['label'].values)"
   ]
  },
  {
   "cell_type": "code",
   "execution_count": 11,
   "metadata": {},
   "outputs": [
    {
     "data": {
      "text/plain": [
       "4"
      ]
     },
     "execution_count": 11,
     "metadata": {},
     "output_type": "execute_result"
    }
   ],
   "source": [
    "img_size = 224\n",
    "num_class = len(data_list['label'].unique())\n",
    "num_class\n",
    "Sequential = 123"
   ]
  },
  {
   "cell_type": "code",
   "execution_count": 12,
   "metadata": {},
   "outputs": [],
   "source": [
    "from tensorflow.keras.applications.vgg16 import VGG16, preprocess_input"
   ]
  },
  {
   "cell_type": "code",
   "execution_count": 13,
   "metadata": {},
   "outputs": [],
   "source": [
    "vgg_model = VGG16(weights='imagenet', include_top=False,\n",
    "                  input_shape=(img_size, img_size, 3))\n",
    "\n",
    "x = Flatten()(vgg_model.output)\n",
    "# x = Dense(128, activation='relu')(x)\n",
    "x = Dropout(0.25)(x)\n",
    "outputs = Dense(num_class, activation='softmax')(x)\n",
    "\n",
    "\n",
    "model = Model(inputs=vgg_model.inputs, outputs=outputs)"
   ]
  },
  {
   "cell_type": "code",
   "execution_count": 14,
   "metadata": {},
   "outputs": [
    {
     "name": "stdout",
     "output_type": "stream",
     "text": [
      "Model: \"model\"\n",
      "_________________________________________________________________\n",
      "Layer (type)                 Output Shape              Param #   \n",
      "=================================================================\n",
      "input_1 (InputLayer)         [(None, 224, 224, 3)]     0         \n",
      "_________________________________________________________________\n",
      "block1_conv1 (Conv2D)        (None, 224, 224, 64)      1792      \n",
      "_________________________________________________________________\n",
      "block1_conv2 (Conv2D)        (None, 224, 224, 64)      36928     \n",
      "_________________________________________________________________\n",
      "block1_pool (MaxPooling2D)   (None, 112, 112, 64)      0         \n",
      "_________________________________________________________________\n",
      "block2_conv1 (Conv2D)        (None, 112, 112, 128)     73856     \n",
      "_________________________________________________________________\n",
      "block2_conv2 (Conv2D)        (None, 112, 112, 128)     147584    \n",
      "_________________________________________________________________\n",
      "block2_pool (MaxPooling2D)   (None, 56, 56, 128)       0         \n",
      "_________________________________________________________________\n",
      "block3_conv1 (Conv2D)        (None, 56, 56, 256)       295168    \n",
      "_________________________________________________________________\n",
      "block3_conv2 (Conv2D)        (None, 56, 56, 256)       590080    \n",
      "_________________________________________________________________\n",
      "block3_conv3 (Conv2D)        (None, 56, 56, 256)       590080    \n",
      "_________________________________________________________________\n",
      "block3_pool (MaxPooling2D)   (None, 28, 28, 256)       0         \n",
      "_________________________________________________________________\n",
      "block4_conv1 (Conv2D)        (None, 28, 28, 512)       1180160   \n",
      "_________________________________________________________________\n",
      "block4_conv2 (Conv2D)        (None, 28, 28, 512)       2359808   \n",
      "_________________________________________________________________\n",
      "block4_conv3 (Conv2D)        (None, 28, 28, 512)       2359808   \n",
      "_________________________________________________________________\n",
      "block4_pool (MaxPooling2D)   (None, 14, 14, 512)       0         \n",
      "_________________________________________________________________\n",
      "block5_conv1 (Conv2D)        (None, 14, 14, 512)       2359808   \n",
      "_________________________________________________________________\n",
      "block5_conv2 (Conv2D)        (None, 14, 14, 512)       2359808   \n",
      "_________________________________________________________________\n",
      "block5_conv3 (Conv2D)        (None, 14, 14, 512)       2359808   \n",
      "_________________________________________________________________\n",
      "block5_pool (MaxPooling2D)   (None, 7, 7, 512)         0         \n",
      "_________________________________________________________________\n",
      "flatten (Flatten)            (None, 25088)             0         \n",
      "_________________________________________________________________\n",
      "dropout (Dropout)            (None, 25088)             0         \n",
      "_________________________________________________________________\n",
      "dense (Dense)                (None, 4)                 100356    \n",
      "=================================================================\n",
      "Total params: 14,815,044\n",
      "Trainable params: 14,815,044\n",
      "Non-trainable params: 0\n",
      "_________________________________________________________________\n"
     ]
    }
   ],
   "source": [
    "model.summary()"
   ]
  },
  {
   "cell_type": "code",
   "execution_count": 15,
   "metadata": {},
   "outputs": [
    {
     "name": "stdout",
     "output_type": "stream",
     "text": [
      "<keras.engine.input_layer.InputLayer object at 0x0000024BFCE10F40> False\n",
      "<keras.layers.convolutional.Conv2D object at 0x0000024BFCE6D670> False\n",
      "<keras.layers.convolutional.Conv2D object at 0x0000024BFCE6DC70> False\n",
      "<keras.layers.pooling.MaxPooling2D object at 0x0000024B91B90FA0> False\n",
      "<keras.layers.convolutional.Conv2D object at 0x0000024B91B90BE0> False\n",
      "<keras.layers.convolutional.Conv2D object at 0x0000024B91B98DC0> False\n",
      "<keras.layers.pooling.MaxPooling2D object at 0x0000024B91B9CA00> False\n",
      "<keras.layers.convolutional.Conv2D object at 0x0000024B91BABF40> False\n",
      "<keras.layers.convolutional.Conv2D object at 0x0000024BFCF0B490> False\n",
      "<keras.layers.convolutional.Conv2D object at 0x0000024B91BB6C70> False\n",
      "<keras.layers.pooling.MaxPooling2D object at 0x0000024B91BB9AF0> False\n",
      "<keras.layers.convolutional.Conv2D object at 0x0000024B91BCB130> False\n",
      "<keras.layers.convolutional.Conv2D object at 0x0000024B91BC0E50> False\n",
      "<keras.layers.convolutional.Conv2D object at 0x0000024B91BB1EB0> False\n",
      "<keras.layers.pooling.MaxPooling2D object at 0x0000024B91BD2490> False\n",
      "<keras.layers.convolutional.Conv2D object at 0x0000024B91BE2040> False\n",
      "<keras.layers.convolutional.Conv2D object at 0x0000024B91BE2F10> True\n",
      "<keras.layers.convolutional.Conv2D object at 0x0000024B91BDF190> True\n",
      "<keras.layers.pooling.MaxPooling2D object at 0x0000024B91BE2370> True\n",
      "<keras.layers.core.Flatten object at 0x0000024BFCE10EE0> True\n",
      "<keras.layers.core.Dropout object at 0x0000024B91BF2EB0> True\n",
      "<keras.layers.core.Dense object at 0x0000024B91BFB700> True\n"
     ]
    }
   ],
   "source": [
    "vgg_model.trainable = False\n",
    "vgg_model.trainable = True\n",
    "\n",
    "trainable_layer = 3\n",
    "for layer in vgg_model.layers[:-trainable_layer]:\n",
    "    layer.trainable = False\n",
    "\n",
    "for layer in model.layers:\n",
    "    print(layer, layer.trainable)"
   ]
  },
  {
   "cell_type": "code",
   "execution_count": 16,
   "metadata": {},
   "outputs": [
    {
     "name": "stderr",
     "output_type": "stream",
     "text": [
      "c:\\Users\\Lucas\\anaconda3\\envs\\tensorflow_new\\lib\\site-packages\\keras\\optimizer_v2\\optimizer_v2.py:355: UserWarning: The `lr` argument is deprecated, use `learning_rate` instead.\n",
      "  warnings.warn(\n"
     ]
    }
   ],
   "source": [
    "learning_rate = 1e-4\n",
    "optimizer = keras.optimizers.Adam(lr=learning_rate)\n",
    "\n",
    "model.compile(loss='categorical_crossentropy',\n",
    "              optimizer=optimizer,\n",
    "              metrics=['accuracy'])"
   ]
  },
  {
   "cell_type": "code",
   "execution_count": 17,
   "metadata": {},
   "outputs": [],
   "source": [
    "batch_size = 32\n",
    "num_steps = len(train_list) // batch_size + 1\n",
    "num_epochs = 30"
   ]
  },
  {
   "cell_type": "code",
   "execution_count": 18,
   "metadata": {},
   "outputs": [
    {
     "name": "stdout",
     "output_type": "stream",
     "text": [
      "Found 1203 validated image filenames belonging to 4 classes.\n",
      "Found 301 validated image filenames belonging to 4 classes.\n"
     ]
    }
   ],
   "source": [
    "train_datagen = ImageDataGenerator(preprocessing_function=preprocess_input)\n",
    "test_datagen = ImageDataGenerator(preprocessing_function=preprocess_input)\n",
    "img_shape = (img_size, img_size)\n",
    "\n",
    "train_generator = train_datagen.flow_from_dataframe(\n",
    "                                                    dataframe=train_list,\n",
    "                                                    directory=data_path,\n",
    "                                                    x_col=\"img_path\",\n",
    "                                                    y_col=\"label\",\n",
    "                                                    target_size=img_shape,\n",
    "                                                    batch_size=batch_size,\n",
    "                                                    class_mode='categorical')\n",
    "\n",
    "valid_generator = test_datagen.flow_from_dataframe(\n",
    "                                                    dataframe=test_list,\n",
    "                                                    directory=data_path,\n",
    "                                                    x_col=\"img_path\",\n",
    "                                                    y_col=\"label\",\n",
    "                                                    target_size=img_shape,\n",
    "                                                    batch_size=batch_size,\n",
    "                                                    class_mode='categorical',\n",
    "                                                    shuffle=False)"
   ]
  },
  {
   "cell_type": "code",
   "execution_count": 19,
   "metadata": {},
   "outputs": [],
   "source": [
    "model_dir = 'model-logs/vgg16'\n",
    "if not os.path.exists(model_dir):\n",
    "    os.makedirs(model_dir)\n",
    "\n",
    "logfiles = model_dir + '/{}-{}'.format('basic_model',\n",
    "                                       model.__class__.__name__)\n",
    "model_cbk = keras.callbacks.TensorBoard(log_dir=logfiles,\n",
    "                                        histogram_freq=1)\n",
    "\n",
    "modelfiles = model_dir + '/{}-best-model.h5'.format('basic_model')\n",
    "model_mckp = keras.callbacks.ModelCheckpoint(modelfiles,\n",
    "                                             monitor='val_accuracy',\n",
    "                                             save_best_only=True)\n",
    "\n",
    "earlystop = keras.callbacks.EarlyStopping(monitor='val_loss',\n",
    "                                          patience=5,\n",
    "                                          verbose=1)\n",
    "\n",
    "\n",
    "callbacks_list = [model_cbk, model_mckp, earlystop]"
   ]
  },
  {
   "cell_type": "code",
   "execution_count": 20,
   "metadata": {},
   "outputs": [
    {
     "name": "stderr",
     "output_type": "stream",
     "text": [
      "c:\\Users\\Lucas\\anaconda3\\envs\\tensorflow_new\\lib\\site-packages\\keras\\engine\\training.py:1972: UserWarning: `Model.fit_generator` is deprecated and will be removed in a future version. Please use `Model.fit`, which supports generators.\n",
      "  warnings.warn('`Model.fit_generator` is deprecated and '\n"
     ]
    },
    {
     "name": "stdout",
     "output_type": "stream",
     "text": [
      "Epoch 1/30\n",
      "38/38 [==============================] - 25s 419ms/step - loss: 3.7494 - accuracy: 0.6916 - val_loss: 0.8833 - val_accuracy: 0.8472\n",
      "Epoch 2/30\n",
      "38/38 [==============================] - 8s 218ms/step - loss: 0.2621 - accuracy: 0.9343 - val_loss: 0.6620 - val_accuracy: 0.8771\n",
      "Epoch 3/30\n",
      "38/38 [==============================] - 8s 212ms/step - loss: 0.0897 - accuracy: 0.9784 - val_loss: 0.6498 - val_accuracy: 0.8738\n",
      "Epoch 4/30\n",
      "38/38 [==============================] - 8s 213ms/step - loss: 0.0418 - accuracy: 0.9834 - val_loss: 0.6491 - val_accuracy: 0.8870\n",
      "Epoch 5/30\n",
      "38/38 [==============================] - 8s 214ms/step - loss: 0.0159 - accuracy: 0.9933 - val_loss: 0.6460 - val_accuracy: 0.8904\n",
      "Epoch 6/30\n",
      "38/38 [==============================] - 8s 215ms/step - loss: 0.0232 - accuracy: 0.9950 - val_loss: 0.6912 - val_accuracy: 0.8937\n",
      "Epoch 7/30\n",
      "38/38 [==============================] - 8s 211ms/step - loss: 0.0123 - accuracy: 0.9958 - val_loss: 0.7150 - val_accuracy: 0.9136\n",
      "Epoch 8/30\n",
      "38/38 [==============================] - 8s 215ms/step - loss: 0.0069 - accuracy: 0.9975 - val_loss: 0.7143 - val_accuracy: 0.9070\n",
      "Epoch 9/30\n",
      "38/38 [==============================] - 8s 211ms/step - loss: 0.0258 - accuracy: 0.9925 - val_loss: 0.9044 - val_accuracy: 0.9003\n",
      "Epoch 10/30\n",
      "38/38 [==============================] - 8s 215ms/step - loss: 0.0122 - accuracy: 0.9942 - val_loss: 0.8269 - val_accuracy: 0.9136\n",
      "Epoch 00010: early stopping\n"
     ]
    }
   ],
   "source": [
    "history = model.fit_generator(train_generator,\n",
    "                              steps_per_epoch=num_steps,\n",
    "                              epochs=num_epochs,\n",
    "                              validation_data=valid_generator,\n",
    "                              callbacks=callbacks_list)"
   ]
  },
  {
   "cell_type": "code",
   "execution_count": 21,
   "metadata": {},
   "outputs": [
    {
     "name": "stderr",
     "output_type": "stream",
     "text": [
      "c:\\Users\\Lucas\\anaconda3\\envs\\tensorflow_new\\lib\\site-packages\\keras\\engine\\training.py:2006: UserWarning: `Model.evaluate_generator` is deprecated and will be removed in a future version. Please use `Model.evaluate`, which supports generators.\n",
      "  warnings.warn('`Model.evaluate_generator` is deprecated and '\n"
     ]
    },
    {
     "name": "stdout",
     "output_type": "stream",
     "text": [
      "10/10 - 2s - loss: 0.8269 - accuracy: 0.9136\n"
     ]
    }
   ],
   "source": [
    "loss, acc = model.evaluate_generator(valid_generator, verbose=2)"
   ]
  },
  {
   "cell_type": "code",
   "execution_count": 22,
   "metadata": {},
   "outputs": [
    {
     "data": {
      "image/png": "[encoded data removed]",
      "text/plain": [
       "<Figure size 864x360 with 2 Axes>"
      ]
     },
     "metadata": {
      "needs_background": "light"
     },
     "output_type": "display_data"
    }
   ],
   "source": [
    "train_history = ['loss', 'val_loss', 'accuracy', 'val_accuracy']\n",
    "name_history = ['training_loss', 'val_loss', 'training_acc', 'val_acc']\n",
    "\n",
    "plt.figure(figsize=(12, 5))\n",
    "for eachx, eachy, i in zip(train_history, name_history, range(4)):\n",
    "    if i % 2 == 0:\n",
    "        plt.subplot(1, 2, i//2+1)\n",
    "    l_x = len(history.history[eachx])\n",
    "    plt.plot(np.arange(l_x), history.history[eachx], label=eachy)\n",
    "    plt.legend(loc='best')\n",
    "    plt.title('model'+eachy)\n",
    "plt.show()"
   ]
  },
  {
   "cell_type": "code",
   "execution_count": 24,
   "metadata": {},
   "outputs": [
    {
     "name": "stdout",
     "output_type": "stream",
     "text": [
      "Model: \"model\"\n",
      "_________________________________________________________________\n",
      "Layer (type)                 Output Shape              Param #   \n",
      "=================================================================\n",
      "input_1 (InputLayer)         [(None, 224, 224, 3)]     0         \n",
      "_________________________________________________________________\n",
      "block1_conv1 (Conv2D)        (None, 224, 224, 64)      1792      \n",
      "_________________________________________________________________\n",
      "block1_conv2 (Conv2D)        (None, 224, 224, 64)      36928     \n",
      "_________________________________________________________________\n",
      "block1_pool (MaxPooling2D)   (None, 112, 112, 64)      0         \n",
      "_________________________________________________________________\n",
      "block2_conv1 (Conv2D)        (None, 112, 112, 128)     73856     \n",
      "_________________________________________________________________\n",
      "block2_conv2 (Conv2D)        (None, 112, 112, 128)     147584    \n",
      "_________________________________________________________________\n",
      "block2_pool (MaxPooling2D)   (None, 56, 56, 128)       0         \n",
      "_________________________________________________________________\n",
      "block3_conv1 (Conv2D)        (None, 56, 56, 256)       295168    \n",
      "_________________________________________________________________\n",
      "block3_conv2 (Conv2D)        (None, 56, 56, 256)       590080    \n",
      "_________________________________________________________________\n",
      "block3_conv3 (Conv2D)        (None, 56, 56, 256)       590080    \n",
      "_________________________________________________________________\n",
      "block3_pool (MaxPooling2D)   (None, 28, 28, 256)       0         \n",
      "_________________________________________________________________\n",
      "block4_conv1 (Conv2D)        (None, 28, 28, 512)       1180160   \n",
      "_________________________________________________________________\n",
      "block4_conv2 (Conv2D)        (None, 28, 28, 512)       2359808   \n",
      "_________________________________________________________________\n",
      "block4_conv3 (Conv2D)        (None, 28, 28, 512)       2359808   \n",
      "_________________________________________________________________\n",
      "block4_pool (MaxPooling2D)   (None, 14, 14, 512)       0         \n",
      "_________________________________________________________________\n",
      "block5_conv1 (Conv2D)        (None, 14, 14, 512)       2359808   \n",
      "_________________________________________________________________\n",
      "block5_conv2 (Conv2D)        (None, 14, 14, 512)       2359808   \n",
      "_________________________________________________________________\n",
      "block5_conv3 (Conv2D)        (None, 14, 14, 512)       2359808   \n",
      "_________________________________________________________________\n",
      "block5_pool (MaxPooling2D)   (None, 7, 7, 512)         0         \n",
      "_________________________________________________________________\n",
      "flatten (Flatten)            (None, 25088)             0         \n",
      "_________________________________________________________________\n",
      "dropout (Dropout)            (None, 25088)             0         \n",
      "_________________________________________________________________\n",
      "dense (Dense)                (None, 4)                 100356    \n",
      "=================================================================\n",
      "Total params: 14,815,044\n",
      "Trainable params: 4,819,972\n",
      "Non-trainable params: 9,995,072\n",
      "_________________________________________________________________\n"
     ]
    }
   ],
   "source": [
    "new_model = keras.models.load_model('model-logs/vgg16/basic_model-best-model.h5')"
   ]
  }
 ],
 "metadata": {
  "interpreter": {
   "hash": "eb9147fb00db66fbb93eeb2911f5492d6a3d45404d9b21ec723db3aacb69cc71"
  },
  "kernelspec": {
   "display_name": "Python 3.9.7 ('tensorflow_new')",
   "language": "python",
   "name": "python3"
  },
  "language_info": {
   "codemirror_mode": {
    "name": "ipython",
    "version": 3
   },
   "file_extension": ".py",
   "mimetype": "text/x-python",
   "name": "python",
   "nbconvert_exporter": "python",
   "pygments_lexer": "ipython3",
   "version": "3.9.7"
  },
  "orig_nbformat": 4
 },
 "nbformat": 4,
 "nbformat_minor": 2
}
